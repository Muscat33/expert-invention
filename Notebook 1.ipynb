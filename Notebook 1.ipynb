{
    "cells": [
        {
            "cell_type": "code",
            "execution_count": 1,
            "metadata": {},
            "outputs": [
                {
                    "name": "stdout",
                    "output_type": "stream",
                    "text": "21\n"
                }
            ],
            "source": "#test\na = 3\nb = 7\nc = a * 7\nprint(c)\n"
        },
        {
            "cell_type": "markdown",
            "metadata": {},
            "source": "Test markdown"
        },
        {
            "cell_type": "markdown",
            "metadata": {},
            "source": "|Name|Date|Time|\n|---|---|---|\n|Ana|7/1|2pm|\n|Bob|7/3|1:30pm|\n|Carrie|7/5|10am|\n"
        },
        {
            "cell_type": "code",
            "execution_count": null,
            "metadata": {},
            "outputs": [],
            "source": ""
        }
    ],
    "metadata": {
        "kernelspec": {
            "display_name": "Python 3.9",
            "language": "python",
            "name": "python3"
        },
        "language_info": {
            "codemirror_mode": {
                "name": "ipython",
                "version": 3
            },
            "file_extension": ".py",
            "mimetype": "text/x-python",
            "name": "python",
            "nbconvert_exporter": "python",
            "pygments_lexer": "ipython3",
            "version": "3.9.12"
        }
    },
    "nbformat": 4,
    "nbformat_minor": 1
}